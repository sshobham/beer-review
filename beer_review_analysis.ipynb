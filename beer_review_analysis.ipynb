{
 "cells": [
  {
   "cell_type": "markdown",
   "id": "permanent-registrar",
   "metadata": {},
   "source": [
    "# Introduction\n",
    "This python notebook is for Beer reviews analysis"
   ]
  },
  {
   "cell_type": "code",
   "execution_count": 54,
   "id": "split-definition",
   "metadata": {},
   "outputs": [],
   "source": [
    "import os\n",
    "import sys\n",
    "import pandas as pd\n",
    "import matplotlib.pyplot as plt\n",
    "import seaborn as sns\n",
    "import torch\n",
    "from transformers import AutoModelForSequenceClassification, AutoTokenizer, pipeline\n",
    "\n",
    " \n",
    "from sklearn.feature_extraction.text import TfidfVectorizer\n",
    "from sklearn.cluster import KMeans\n",
    "\n",
    "import re\n",
    "import string\n",
    "import nltk\n",
    "from nltk.corpus import stopwords\n",
    "from nltk.stem.wordnet import WordNetLemmatizer\n",
    "\n",
    "from ast import literal_eval"
   ]
  },
  {
   "cell_type": "markdown",
   "id": "african-twenty",
   "metadata": {},
   "source": [
    "## Data Pre-processing\n",
    "* Reading csv file\n",
    "* Converting object datatype to category\n",
    "* Removing null values"
   ]
  },
  {
   "cell_type": "code",
   "execution_count": 5,
   "id": "premium-liberal",
   "metadata": {},
   "outputs": [],
   "source": [
    "# Path to data\n",
    "DATA_PATH = os.path.join(\"data\", \"BeerDataScienceProject.csv\")"
   ]
  },
  {
   "cell_type": "code",
   "execution_count": 6,
   "id": "associate-tennis",
   "metadata": {},
   "outputs": [],
   "source": [
    "# Load dataset in beer_df dataframe\n",
    "beer_df = pd.read_csv(DATA_PATH)"
   ]
  },
  {
   "cell_type": "code",
   "execution_count": 7,
   "id": "sharp-attraction",
   "metadata": {},
   "outputs": [
    {
     "name": "stdout",
     "output_type": "stream",
     "text": [
      "<class 'pandas.core.frame.DataFrame'>\n",
      "RangeIndex: 528870 entries, 0 to 528869\n",
      "Data columns (total 13 columns):\n",
      " #   Column              Non-Null Count   Dtype  \n",
      "---  ------              --------------   -----  \n",
      " 0   beer_ABV            508590 non-null  float64\n",
      " 1   beer_beerId         528870 non-null  int64  \n",
      " 2   beer_brewerId       528870 non-null  int64  \n",
      " 3   beer_name           528870 non-null  object \n",
      " 4   beer_style          528870 non-null  object \n",
      " 5   review_appearance   528870 non-null  float64\n",
      " 6   review_palette      528870 non-null  float64\n",
      " 7   review_overall      528870 non-null  float64\n",
      " 8   review_taste        528870 non-null  float64\n",
      " 9   review_profileName  528755 non-null  object \n",
      " 10  review_aroma        528870 non-null  float64\n",
      " 11  review_text         528751 non-null  object \n",
      " 12  review_time         528870 non-null  int64  \n",
      "dtypes: float64(6), int64(3), object(4)\n",
      "memory usage: 52.5+ MB\n"
     ]
    }
   ],
   "source": [
    "# Analyzing the datatypes of columns\n",
    "beer_df.info()"
   ]
  },
  {
   "cell_type": "code",
   "execution_count": 8,
   "id": "demographic-rings",
   "metadata": {},
   "outputs": [
    {
     "data": {
      "text/html": [
       "<div>\n",
       "<style scoped>\n",
       "    .dataframe tbody tr th:only-of-type {\n",
       "        vertical-align: middle;\n",
       "    }\n",
       "\n",
       "    .dataframe tbody tr th {\n",
       "        vertical-align: top;\n",
       "    }\n",
       "\n",
       "    .dataframe thead th {\n",
       "        text-align: right;\n",
       "    }\n",
       "</style>\n",
       "<table border=\"1\" class=\"dataframe\">\n",
       "  <thead>\n",
       "    <tr style=\"text-align: right;\">\n",
       "      <th></th>\n",
       "      <th>Column_Name</th>\n",
       "      <th>Num_Unique</th>\n",
       "    </tr>\n",
       "  </thead>\n",
       "  <tbody>\n",
       "    <tr>\n",
       "      <th>6</th>\n",
       "      <td>review_palette</td>\n",
       "      <td>9</td>\n",
       "    </tr>\n",
       "    <tr>\n",
       "      <th>8</th>\n",
       "      <td>review_taste</td>\n",
       "      <td>9</td>\n",
       "    </tr>\n",
       "    <tr>\n",
       "      <th>10</th>\n",
       "      <td>review_aroma</td>\n",
       "      <td>9</td>\n",
       "    </tr>\n",
       "    <tr>\n",
       "      <th>5</th>\n",
       "      <td>review_appearance</td>\n",
       "      <td>10</td>\n",
       "    </tr>\n",
       "    <tr>\n",
       "      <th>7</th>\n",
       "      <td>review_overall</td>\n",
       "      <td>10</td>\n",
       "    </tr>\n",
       "    <tr>\n",
       "      <th>4</th>\n",
       "      <td>beer_style</td>\n",
       "      <td>104</td>\n",
       "    </tr>\n",
       "    <tr>\n",
       "      <th>0</th>\n",
       "      <td>beer_ABV</td>\n",
       "      <td>283</td>\n",
       "    </tr>\n",
       "    <tr>\n",
       "      <th>2</th>\n",
       "      <td>beer_brewerId</td>\n",
       "      <td>1803</td>\n",
       "    </tr>\n",
       "    <tr>\n",
       "      <th>3</th>\n",
       "      <td>beer_name</td>\n",
       "      <td>18339</td>\n",
       "    </tr>\n",
       "    <tr>\n",
       "      <th>1</th>\n",
       "      <td>beer_beerId</td>\n",
       "      <td>20200</td>\n",
       "    </tr>\n",
       "    <tr>\n",
       "      <th>9</th>\n",
       "      <td>review_profileName</td>\n",
       "      <td>22800</td>\n",
       "    </tr>\n",
       "    <tr>\n",
       "      <th>12</th>\n",
       "      <td>review_time</td>\n",
       "      <td>527927</td>\n",
       "    </tr>\n",
       "    <tr>\n",
       "      <th>11</th>\n",
       "      <td>review_text</td>\n",
       "      <td>528371</td>\n",
       "    </tr>\n",
       "  </tbody>\n",
       "</table>\n",
       "</div>"
      ],
      "text/plain": [
       "           Column_Name  Num_Unique\n",
       "6       review_palette           9\n",
       "8         review_taste           9\n",
       "10        review_aroma           9\n",
       "5    review_appearance          10\n",
       "7       review_overall          10\n",
       "4           beer_style         104\n",
       "0             beer_ABV         283\n",
       "2        beer_brewerId        1803\n",
       "3            beer_name       18339\n",
       "1          beer_beerId       20200\n",
       "9   review_profileName       22800\n",
       "12         review_time      527927\n",
       "11         review_text      528371"
      ]
     },
     "execution_count": 8,
     "metadata": {},
     "output_type": "execute_result"
    }
   ],
   "source": [
    "# Getting count of values in each column\n",
    "unique_counts = pd.DataFrame.from_records([(col, beer_df[col].nunique()) for col in beer_df.columns],\n",
    "                          columns=['Column_Name', 'Num_Unique']).sort_values(by=['Num_Unique'])\n",
    "unique_counts"
   ]
  },
  {
   "cell_type": "code",
   "execution_count": 10,
   "id": "female-directory",
   "metadata": {},
   "outputs": [
    {
     "name": "stdout",
     "output_type": "stream",
     "text": [
      "<class 'pandas.core.frame.DataFrame'>\n",
      "RangeIndex: 528870 entries, 0 to 528869\n",
      "Data columns (total 13 columns):\n",
      " #   Column              Non-Null Count   Dtype   \n",
      "---  ------              --------------   -----   \n",
      " 0   beer_ABV            508590 non-null  float64 \n",
      " 1   beer_beerId         528870 non-null  int64   \n",
      " 2   beer_brewerId       528870 non-null  int64   \n",
      " 3   beer_name           528870 non-null  category\n",
      " 4   beer_style          528870 non-null  category\n",
      " 5   review_appearance   528870 non-null  float64 \n",
      " 6   review_palette      528870 non-null  float64 \n",
      " 7   review_overall      528870 non-null  float64 \n",
      " 8   review_taste        528870 non-null  float64 \n",
      " 9   review_profileName  528755 non-null  category\n",
      " 10  review_aroma        528870 non-null  float64 \n",
      " 11  review_text         528751 non-null  object  \n",
      " 12  review_time         528870 non-null  int64   \n",
      "dtypes: category(3), float64(6), int64(3), object(1)\n",
      "memory usage: 44.2+ MB\n"
     ]
    }
   ],
   "source": [
    "# Convert object datatype to category using threshold value\n",
    "columns_to_convert = ['beer_name', 'beer_style', 'review_profileName']\n",
    "\n",
    "for col in columns_to_convert:\n",
    "        beer_df[col] = beer_df[col].astype('category')\n",
    "\n",
    "# Memory reduced to 44.2 MB after converting object datatype to Category\n",
    "beer_df.info()"
   ]
  },
  {
   "cell_type": "code",
   "execution_count": 11,
   "id": "human-zealand",
   "metadata": {},
   "outputs": [
    {
     "data": {
      "text/plain": [
       "beer_ABV              20280\n",
       "beer_beerId               0\n",
       "beer_brewerId             0\n",
       "beer_name                 0\n",
       "beer_style                0\n",
       "review_appearance         0\n",
       "review_palette            0\n",
       "review_overall            0\n",
       "review_taste              0\n",
       "review_profileName      115\n",
       "review_aroma              0\n",
       "review_text             119\n",
       "review_time               0\n",
       "dtype: int64"
      ]
     },
     "execution_count": 11,
     "metadata": {},
     "output_type": "execute_result"
    }
   ],
   "source": [
    "# Analyzing null values\n",
    "beer_df.isna().sum()"
   ]
  },
  {
   "cell_type": "code",
   "execution_count": 12,
   "id": "fantastic-colleague",
   "metadata": {},
   "outputs": [],
   "source": [
    "# Removing na values\n",
    "beer_df = beer_df.dropna()"
   ]
  },
  {
   "cell_type": "markdown",
   "id": "domestic-athens",
   "metadata": {},
   "source": [
    "## 1.\tRank top 3 Breweries which produce the strongest beers?\n",
    "Using beer_abv column to fetch top 3 breweries\n",
    "\n",
    "**Answer**\n",
    "\n",
    "* **Schorschbr�u Schorschbock 57%**\t\n",
    "* **Schorschbr�u Schorschbock 43%**\n",
    "* **Schorschbr�u Schorschbock 40%**"
   ]
  },
  {
   "cell_type": "code",
   "execution_count": 18,
   "id": "eligible-mustang",
   "metadata": {},
   "outputs": [
    {
     "data": {
      "text/plain": [
       "<AxesSubplot:xlabel='beer_name'>"
      ]
     },
     "execution_count": 18,
     "metadata": {},
     "output_type": "execute_result"
    },
    {
     "data": {
      "image/png": "[encoded data removed]",
      "text/plain": [
       "<Figure size 432x288 with 1 Axes>"
      ]
     },
     "metadata": {
      "needs_background": "light"
     },
     "output_type": "display_data"
    }
   ],
   "source": [
    "top_3_abv_df = beer_df.drop_duplicates('beer_name').nlargest(3, ['beer_ABV'])\n",
    "top_3_abv_df.plot(x ='beer_name', y='beer_ABV', kind='bar')"
   ]
  },
  {
   "cell_type": "markdown",
   "id": "affiliated-drama",
   "metadata": {},
   "source": [
    "## 2.\tWhich year did beers enjoy the highest ratings? \n",
    "* Fetched year from review_time column\n",
    "* Applying mean over review_overall column for each year\n",
    "\n",
    "**Answer - 2000**"
   ]
  },
  {
   "cell_type": "code",
   "execution_count": 23,
   "id": "annual-hostel",
   "metadata": {},
   "outputs": [
    {
     "name": "stderr",
     "output_type": "stream",
     "text": [
      "<ipython-input-23-7b0e8d3e7bca>:2: SettingWithCopyWarning: \n",
      "A value is trying to be set on a copy of a slice from a DataFrame.\n",
      "Try using .loc[row_indexer,col_indexer] = value instead\n",
      "\n",
      "See the caveats in the documentation: https://pandas.pydata.org/pandas-docs/stable/user_guide/indexing.html#returning-a-view-versus-a-copy\n",
      "  rating_time_df['review_year'] = pd.to_datetime(rating_time_df['review_time'],unit='s').dt.year\n"
     ]
    },
    {
     "data": {
      "text/html": [
       "<div>\n",
       "<style scoped>\n",
       "    .dataframe tbody tr th:only-of-type {\n",
       "        vertical-align: middle;\n",
       "    }\n",
       "\n",
       "    .dataframe tbody tr th {\n",
       "        vertical-align: top;\n",
       "    }\n",
       "\n",
       "    .dataframe thead th {\n",
       "        text-align: right;\n",
       "    }\n",
       "</style>\n",
       "<table border=\"1\" class=\"dataframe\">\n",
       "  <thead>\n",
       "    <tr style=\"text-align: right;\">\n",
       "      <th></th>\n",
       "      <th>review_year</th>\n",
       "      <th>review_overall</th>\n",
       "    </tr>\n",
       "  </thead>\n",
       "  <tbody>\n",
       "    <tr>\n",
       "      <th>2</th>\n",
       "      <td>2000</td>\n",
       "      <td>4.233333</td>\n",
       "    </tr>\n",
       "    <tr>\n",
       "      <th>0</th>\n",
       "      <td>1998</td>\n",
       "      <td>4.045455</td>\n",
       "    </tr>\n",
       "    <tr>\n",
       "      <th>1</th>\n",
       "      <td>1999</td>\n",
       "      <td>4.000000</td>\n",
       "    </tr>\n",
       "    <tr>\n",
       "      <th>3</th>\n",
       "      <td>2001</td>\n",
       "      <td>3.961896</td>\n",
       "    </tr>\n",
       "    <tr>\n",
       "      <th>12</th>\n",
       "      <td>2010</td>\n",
       "      <td>3.869430</td>\n",
       "    </tr>\n",
       "    <tr>\n",
       "      <th>11</th>\n",
       "      <td>2009</td>\n",
       "      <td>3.868749</td>\n",
       "    </tr>\n",
       "    <tr>\n",
       "      <th>7</th>\n",
       "      <td>2005</td>\n",
       "      <td>3.844657</td>\n",
       "    </tr>\n",
       "    <tr>\n",
       "      <th>10</th>\n",
       "      <td>2008</td>\n",
       "      <td>3.840345</td>\n",
       "    </tr>\n",
       "    <tr>\n",
       "      <th>14</th>\n",
       "      <td>2012</td>\n",
       "      <td>3.839082</td>\n",
       "    </tr>\n",
       "    <tr>\n",
       "      <th>13</th>\n",
       "      <td>2011</td>\n",
       "      <td>3.833394</td>\n",
       "    </tr>\n",
       "    <tr>\n",
       "      <th>9</th>\n",
       "      <td>2007</td>\n",
       "      <td>3.819879</td>\n",
       "    </tr>\n",
       "    <tr>\n",
       "      <th>4</th>\n",
       "      <td>2002</td>\n",
       "      <td>3.817551</td>\n",
       "    </tr>\n",
       "    <tr>\n",
       "      <th>8</th>\n",
       "      <td>2006</td>\n",
       "      <td>3.809104</td>\n",
       "    </tr>\n",
       "    <tr>\n",
       "      <th>6</th>\n",
       "      <td>2004</td>\n",
       "      <td>3.806632</td>\n",
       "    </tr>\n",
       "    <tr>\n",
       "      <th>5</th>\n",
       "      <td>2003</td>\n",
       "      <td>3.772793</td>\n",
       "    </tr>\n",
       "  </tbody>\n",
       "</table>\n",
       "</div>"
      ],
      "text/plain": [
       "    review_year  review_overall\n",
       "2          2000        4.233333\n",
       "0          1998        4.045455\n",
       "1          1999        4.000000\n",
       "3          2001        3.961896\n",
       "12         2010        3.869430\n",
       "11         2009        3.868749\n",
       "7          2005        3.844657\n",
       "10         2008        3.840345\n",
       "14         2012        3.839082\n",
       "13         2011        3.833394\n",
       "9          2007        3.819879\n",
       "4          2002        3.817551\n",
       "8          2006        3.809104\n",
       "6          2004        3.806632\n",
       "5          2003        3.772793"
      ]
     },
     "execution_count": 23,
     "metadata": {},
     "output_type": "execute_result"
    }
   ],
   "source": [
    "rating_time_df = beer_df[['review_overall', 'review_time']]\n",
    "rating_time_df['review_year'] = pd.to_datetime(rating_time_df['review_time'],unit='s').dt.year\n",
    "rating_time_df.groupby('review_year')['review_overall'].mean().reset_index().sort_values(by='review_overall', ascending=False)"
   ]
  },
  {
   "cell_type": "markdown",
   "id": "described-comparative",
   "metadata": {},
   "source": [
    "## 3.\tBased on the user’s ratings which factors are important among taste, aroma, appearance, and palette?\n",
    "Used co-relation matrix to analyze the best factor\n",
    "\n",
    "**Answer - Aroma**"
   ]
  },
  {
   "cell_type": "code",
   "execution_count": 25,
   "id": "mineral-riverside",
   "metadata": {},
   "outputs": [
    {
     "data": {
      "text/plain": [
       "Text(0.5, 1.0, 'Features Correlating with review_overall')"
      ]
     },
     "execution_count": 25,
     "metadata": {},
     "output_type": "execute_result"
    },
    {
     "data": {
      "image/png": "[encoded data removed]",
      "text/plain": [
       "<Figure size 576x864 with 2 Axes>"
      ]
     },
     "metadata": {
      "needs_background": "light"
     },
     "output_type": "display_data"
    }
   ],
   "source": [
    "factors = [\"review_appearance\",\"review_aroma\",\"review_palette\",\"review_taste\", \"review_overall\"]\n",
    "corr_df = beer_df[factors].corr()\n",
    "corr_df[['review_overall']].sort_values(by='review_overall', ascending=False)\n",
    "plt.figure(figsize=(8, 12))\n",
    "heatmap = sns.heatmap(corr_df[['review_overall']].sort_values(by='review_overall', ascending=False), vmin=-1, vmax=1, annot=True, cmap='BrBG')\n",
    "heatmap.set_title('Features Correlating with review_overall', fontdict={'fontsize':18}, pad=16)"
   ]
  },
  {
   "cell_type": "markdown",
   "id": "ecological-manner",
   "metadata": {},
   "source": [
    "## 4.If you were to recommend 3 beers to your friends based on this data which ones will you recommend?\n",
    "\n",
    "Used review_overall column with at least 100 reviews for each beer\n",
    "\n",
    "**Answer**\n",
    "\n",
    "* **Citra DIPA**\n",
    "* **Cantillon Bl�b�r Lambik**\n",
    "* **Heady Topper**"
   ]
  },
  {
   "cell_type": "code",
   "execution_count": 32,
   "id": "desirable-distinction",
   "metadata": {},
   "outputs": [
    {
     "data": {
      "text/plain": [
       "beer_name\n",
       "Rural People's Common Lager    5.0\n",
       "Hop It                         5.0\n",
       "Bubba Imperial Pilsner         5.0\n",
       "Triple OOO                     5.0\n",
       "Triple 7 India Pale Ale        5.0\n",
       "Name: review_overall, dtype: float64"
      ]
     },
     "execution_count": 32,
     "metadata": {},
     "output_type": "execute_result"
    }
   ],
   "source": [
    "# Calculate mean review of all beer_name\n",
    "beer_df.groupby('beer_name')['review_overall'].mean().sort_values(ascending=False).head()"
   ]
  },
  {
   "cell_type": "code",
   "execution_count": 33,
   "id": "biblical-loading",
   "metadata": {},
   "outputs": [
    {
     "data": {
      "text/plain": [
       "beer_name\n",
       "Sierra Nevada Celebration Ale                 2998\n",
       "Sierra Nevada Pale Ale                        2586\n",
       "Founders Breakfast Stout                      2501\n",
       "Sierra Nevada Bigfoot Barleywine Style Ale    2491\n",
       "La Fin Du Monde                               2480\n",
       "Name: review_overall, dtype: int64"
      ]
     },
     "execution_count": 33,
     "metadata": {},
     "output_type": "execute_result"
    }
   ],
   "source": [
    "# Calculate count review of all beer_name\n",
    "beer_df.groupby('beer_name')['review_overall'].count().sort_values(ascending=False).head()"
   ]
  },
  {
   "cell_type": "code",
   "execution_count": 34,
   "id": "hispanic-haven",
   "metadata": {},
   "outputs": [],
   "source": [
    "# creating dataframe with 'review' count values\n",
    "ratings = pd.DataFrame(beer_df.groupby('beer_name')['review_overall'].mean()) \n",
    "ratings['num of ratings'] = pd.DataFrame(beer_df.groupby('beer_name')['review_overall'].count())\n",
    "ratings = ratings[ratings['review_overall'].notna()]\n",
    "\n",
    "# Looking at beer with at least 100 ratings\n",
    "atleast_100 = ratings['num of ratings'] >= 100\n",
    "top3 = ratings[atleast_100].sort_values([('review_overall')], ascending=False)[:3]"
   ]
  },
  {
   "cell_type": "code",
   "execution_count": 35,
   "id": "close-vegetation",
   "metadata": {},
   "outputs": [
    {
     "data": {
      "text/plain": [
       "['Citra DIPA', 'Cantillon Bl�b�r Lambik', 'Heady Topper']"
      ]
     },
     "execution_count": 35,
     "metadata": {},
     "output_type": "execute_result"
    }
   ],
   "source": [
    "# Top 3 beer with at least 100 ratings\n",
    "top3_beer_lst = top3.reset_index()['beer_name'].values.tolist()\n",
    "top3_beer_lst"
   ]
  },
  {
   "cell_type": "markdown",
   "id": "regional-chapel",
   "metadata": {},
   "source": [
    "## 5.Which Beer style seems to be the favorite based on reviews written by users? \n",
    "\n",
    "Used BERT sentiment model to get the sentiment of review_text\n",
    "\n",
    "Filtering data based on best review_overall\n",
    "\n",
    "Grouping data by beer_style and selecting 50 review text (due to infra constraint)\n",
    "\n",
    "Created new column review_nlp with BERT prediction\n",
    "\n",
    "**Answer - Faro**"
   ]
  },
  {
   "cell_type": "code",
   "execution_count": 37,
   "id": "mineral-sequence",
   "metadata": {},
   "outputs": [],
   "source": [
    "# Creating pipeline for BERT model \n",
    "model = AutoModelForSequenceClassification.from_pretrained(\"bert-base-multilingual-uncased-sentiment\")\n",
    "tokenizer = AutoTokenizer.from_pretrained(\"nlptown/bert-base-multilingual-uncased-sentiment\")\n",
    "nlp = pipeline(\"sentiment-analysis\",model=model,tokenizer=tokenizer)"
   ]
  },
  {
   "cell_type": "code",
   "execution_count": 40,
   "id": "divine-defensive",
   "metadata": {},
   "outputs": [],
   "source": [
    "# Filtering data based on best review_overall\n",
    "top_beer_df = beer_df[beer_df.review_overall == 5].reset_index(drop=True)\n",
    "top_beer_df['review_text'] = top_beer_df['review_text'].str[:512]\n",
    "top_beer_df['review_text'] = top_beer_df['review_text'].str.lower()"
   ]
  },
  {
   "cell_type": "code",
   "execution_count": 57,
   "id": "finite-transportation",
   "metadata": {},
   "outputs": [
    {
     "data": {
      "text/plain": [
       "beer_style\n",
       "Faro    4.75\n",
       "Name: review_nlp, dtype: float64"
      ]
     },
     "execution_count": 57,
     "metadata": {},
     "output_type": "execute_result"
    }
   ],
   "source": [
    "# Grouping data by beer_style and selecting 50 review text\n",
    "# Processing on less data due to infra constraint\n",
    "top_style_df = top_beer_df.groupby('beer_style').head(50).reset_index(drop=True)\n",
    "top_style_df = pd.read_csv('data/style_groups.csv')\n",
    "top_style_df['review_nlp'] = [nlp(x) for x in top_style_df.review_text]\n",
    "top_style_df['review_nlp'] = [int(x[0]['label'].split(' ')[0]) for x in top_style_df.review_nlp]\n",
    "top_style_df.groupby('beer_style')['review_nlp'].mean().sort_values(ascending=False).head(1)\n"
   ]
  },
  {
   "cell_type": "markdown",
   "id": "distant-layer",
   "metadata": {},
   "source": [
    "## 6. How does written review compare to overall review score for the beer styles?\n",
    "\n",
    "Group data by beer_style\n",
    "\n",
    "Filtered 5 rows for each beer_style\n",
    "\n",
    "Apply BERT sentiment for each review_text\n",
    "\n",
    "Compared review_overall column with review_nlp generated using BERT model"
   ]
  },
  {
   "cell_type": "code",
   "execution_count": null,
   "id": "respiratory-trading",
   "metadata": {},
   "outputs": [],
   "source": [
    "style_df = beer_df.groupby('beer_style').head(5).reset_index(drop=True)\n",
    "style_df['review_text'] = style_df['review_text'].str[:512]\n",
    "style_df['review_text'] = style_df['review_text'].str.lower()\n",
    "style_df['review_nlp'] = [nlp(x) for x in style_df.review_text]\n",
    "style_df['review_nlp'] = [int(x[0]['label'].split(' ')[0]) for x in style_df.review_nlp]"
   ]
  },
  {
   "cell_type": "code",
   "execution_count": 64,
   "id": "african-villa",
   "metadata": {},
   "outputs": [
    {
     "name": "stderr",
     "output_type": "stream",
     "text": [
      "<ipython-input-64-ffa3b69194a3>:1: FutureWarning: Indexing with multiple keys (implicitly converted to a tuple of keys) will be deprecated, use a list instead.\n",
      "  style_df = style_df.groupby('beer_style')['review_nlp', 'review_overall'].mean()\n"
     ]
    },
    {
     "data": {
      "text/plain": [
       "<AxesSubplot:xlabel='beer_style'>"
      ]
     },
     "execution_count": 64,
     "metadata": {},
     "output_type": "execute_result"
    },
    {
     "data": {
      "image/png": "[encoded data removed]",
      "text/plain": [
       "<Figure size 432x288 with 1 Axes>"
      ]
     },
     "metadata": {
      "needs_background": "light"
     },
     "output_type": "display_data"
    }
   ],
   "source": [
    "style_df = style_df.groupby('beer_style')['review_nlp', 'review_overall'].mean()\n",
    "style_df.reset_index(inplace=True)\n",
    "style_df_plot = style_df.head(10) \n",
    "style_df_plot.plot(x=\"beer_style\", y=[\"review_overall\", \"review_nlp\"], kind=\"bar\")"
   ]
  },
  {
   "cell_type": "markdown",
   "id": "purple-squad",
   "metadata": {},
   "source": [
    "## 7.How do find similar beer drinkers by using written reviews only?\n",
    "\n",
    "Performed basic nlp pre-processing technique to clean the reviews (stop word removal, removing special characters, lemmatization)\n",
    "\n",
    "Perfomed k-means clustering to find similar reviews data"
   ]
  },
  {
   "cell_type": "code",
   "execution_count": 60,
   "id": "incoming-administration",
   "metadata": {},
   "outputs": [
    {
     "name": "stderr",
     "output_type": "stream",
     "text": [
      "[nltk_data] Downloading package wordnet to\n",
      "[nltk_data]     C:\\Users\\HP\\AppData\\Roaming\\nltk_data...\n",
      "[nltk_data]   Package wordnet is already up-to-date!\n",
      "[nltk_data] Downloading package stopwords to\n",
      "[nltk_data]     C:\\Users\\HP\\AppData\\Roaming\\nltk_data...\n",
      "[nltk_data]   Package stopwords is already up-to-date!\n"
     ]
    }
   ],
   "source": [
    "nltk.download('wordnet')\n",
    "wordnet_lemmatizer = WordNetLemmatizer() #initialising the wordnet lemmatizer \n",
    "nltk.download('stopwords')\n",
    "stop = set(stopwords.words('english')) #set of stopwords"
   ]
  },
  {
   "cell_type": "code",
   "execution_count": 65,
   "id": "acting-specialist",
   "metadata": {},
   "outputs": [],
   "source": [
    "def cleanhtml(sentence): #function to clean the word of any html-tags\n",
    "    cleanr = re.compile('<.*?>')\n",
    "    cleantext = re.sub(cleanr, ' ', sentence)\n",
    "    return cleantext\n",
    "def cleanpunc(sentence): #function to clean the word of any punctuation or special characters\n",
    "    cleaned = re.sub(r'[?|!|\\'|\"|#]',r'',sentence)\n",
    "    cleaned = re.sub(r'[.|,|)|(|\\|/]',r' ',cleaned)\n",
    "    return  cleaned\n",
    "\n",
    "final_review_text = []\n",
    "for sent in beer_df['review_text'].values:\n",
    "    filtered_sentence=[]\n",
    "    #print(sent);\n",
    "    sent=cleanhtml(sent) # remove HTMl tags\n",
    "    for w in sent.split():\n",
    "        for cleaned_words in cleanpunc(w).split():\n",
    "            if((cleaned_words.isalpha()) & (len(cleaned_words)>2)):    \n",
    "                if(cleaned_words.lower() not in stop):\n",
    "                    s=wordnet_lemmatizer.lemmatize(cleaned_words.lower())\n",
    "                    filtered_sentence.append(s)              \n",
    "                else:\n",
    "                    continue\n",
    "            else:\n",
    "                continue \n",
    "    str1 = \" \".join(filtered_sentence) #final string of cleaned words    \n",
    "    final_review_text.append(str1)"
   ]
  },
  {
   "cell_type": "code",
   "execution_count": 66,
   "id": "proprietary-diameter",
   "metadata": {},
   "outputs": [
    {
     "data": {
      "text/plain": [
       "KMeans(max_iter=100, n_clusters=5, n_init=1)"
      ]
     },
     "execution_count": 66,
     "metadata": {},
     "output_type": "execute_result"
    }
   ],
   "source": [
    "vectorizer = TfidfVectorizer(stop_words='english')\n",
    "X = vectorizer.fit_transform(final_review_text)\n",
    "true_k = 5\n",
    "model = KMeans(n_clusters=true_k, init='k-means++', max_iter=100, n_init=1)\n",
    "model.fit(X)"
   ]
  },
  {
   "cell_type": "code",
   "execution_count": 67,
   "id": "thermal-application",
   "metadata": {},
   "outputs": [
    {
     "name": "stdout",
     "output_type": "stream",
     "text": [
      "Top terms per cluster:\n",
      "Cluster 0:\n",
      " wheat\n",
      " light\n",
      " yeast\n",
      " banana\n",
      " beer\n",
      " white\n",
      " spice\n",
      " lemon\n",
      " clove\n",
      " orange\n",
      "Cluster 1:\n",
      " beer\n",
      " taste\n",
      " like\n",
      " smell\n",
      " good\n",
      " head\n",
      " hop\n",
      " light\n",
      " flavor\n",
      " nice\n",
      "Cluster 2:\n",
      " chocolate\n",
      " coffee\n",
      " roasted\n",
      " dark\n",
      " stout\n",
      " black\n",
      " malt\n",
      " beer\n",
      " brown\n",
      " flavor\n",
      "Cluster 3:\n",
      " hop\n",
      " malt\n",
      " nice\n",
      " citrus\n",
      " good\n",
      " beer\n",
      " head\n",
      " pine\n",
      " ipa\n",
      " flavor\n",
      "Cluster 4:\n",
      " dark\n",
      " brown\n",
      " sweet\n",
      " caramel\n",
      " fruit\n",
      " malt\n",
      " alcohol\n",
      " beer\n",
      " flavor\n",
      " cherry\n"
     ]
    }
   ],
   "source": [
    "print(\"Top terms per cluster:\")\n",
    "order_centroids = model.cluster_centers_.argsort()[:, ::-1]\n",
    "terms = vectorizer.get_feature_names()\n",
    "for i in range(true_k):\n",
    "    print(\"Cluster %d:\" % i),\n",
    "    for ind in order_centroids[i, :10]:\n",
    "        print(' %s' % terms[ind]),\n",
    "    print"
   ]
  },
  {
   "cell_type": "code",
   "execution_count": 68,
   "id": "retained-prayer",
   "metadata": {},
   "outputs": [
    {
     "name": "stdout",
     "output_type": "stream",
     "text": [
      "Prediction\n",
      "[1]\n"
     ]
    }
   ],
   "source": [
    "print(\"Prediction\")\n",
    "Y = vectorizer.transform([\"Brown in color, somewhere between a porter and a brown ale. Lacking in aroma, but no off stuff. Same with the taste, lacking flavor, complexity, just went with smoothness. No off flavors though, so I can't say this is bad, just unadventurous, especially for Caldera, whom I think is generally underrated. You really have to search to pull anything out of this in terms of the usual chocolate/coffee flavors, really, the only thing I can tell is that the oats did their job, because this is smooth and unoffensive. Other than that, extremely pedestrian.\"])\n",
    "prediction = model.predict(Y)\n",
    "print(prediction)"
   ]
  },
  {
   "cell_type": "code",
   "execution_count": null,
   "id": "computational-honey",
   "metadata": {},
   "outputs": [],
   "source": []
  }
 ],
 "metadata": {
  "kernelspec": {
   "display_name": "Python 3",
   "language": "python",
   "name": "python3"
  },
  "language_info": {
   "codemirror_mode": {
    "name": "ipython",
    "version": 3
   },
   "file_extension": ".py",
   "mimetype": "text/x-python",
   "name": "python",
   "nbconvert_exporter": "python",
   "pygments_lexer": "ipython3",
   "version": "3.8.8"
  }
 },
 "nbformat": 4,
 "nbformat_minor": 5
}
